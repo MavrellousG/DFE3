{
  "nbformat": 4,
  "nbformat_minor": 0,
  "metadata": {
    "kernelspec": {
      "display_name": "Python 3",
      "language": "python",
      "name": "python3"
    },
    "language_info": {
      "codemirror_mode": {
        "name": "ipython",
        "version": 3
      },
      "file_extension": ".py",
      "mimetype": "text/x-python",
      "name": "python",
      "nbconvert_exporter": "python",
      "pygments_lexer": "ipython3",
      "version": "3.7.4"
    },
    "colab": {
      "name": "Choosing the right estimator.ipynb",
      "provenance": [],
      "include_colab_link": true
    }
  },
  "cells": [
    {
      "cell_type": "markdown",
      "metadata": {
        "id": "view-in-github",
        "colab_type": "text"
      },
      "source": [
        "<a href=\"https://colab.research.google.com/github/MavrellousG/DFE3/blob/main/brief_project_day_Choosing_the_right_estimator.ipynb\" target=\"_parent\"><img src=\"https://colab.research.google.com/assets/colab-badge.svg\" alt=\"Open In Colab\"/></a>"
      ]
    },
    {
      "cell_type": "markdown",
      "metadata": {
        "id": "9LSAVpZ1mUa7"
      },
      "source": [
        "# Practical Machine Learning \n",
        "### Project: Model Selection"
      ]
    },
    {
      "cell_type": "markdown",
      "metadata": {
        "id": "H7UVonummUbD"
      },
      "source": [
        "# Abstract"
      ]
    },
    {
      "cell_type": "markdown",
      "metadata": {
        "id": "CPTmXNq3mUbE"
      },
      "source": [
        "# Part 1: Business and Data Understanding"
      ]
    },
    {
      "cell_type": "markdown",
      "metadata": {
        "id": "JaQos8L2mUbF"
      },
      "source": [
        "### Q. Define the problem domain"
      ]
    },
    {
      "cell_type": "code",
      "metadata": {
        "id": "9OjVFKAAmUbG"
      },
      "source": [
        "\n",
        "# Regression or Classification\n",
        "# Explain your columns, the ML equation you may want to build\n",
        "# In our dataset of blahblah.csv, we have following discrete, and continuous columns:\n",
        "# C1....\n",
        "# we are trying to form an equation\n",
        "# y' = w1* C1 + w2* C2 .... +bias \n",
        "# one-paragraph explaning what you are trying to predict based\n",
        "# on equation above "
      ],
      "execution_count": null,
      "outputs": []
    },
    {
      "cell_type": "markdown",
      "metadata": {
        "id": "x-oEdI1MmUbH"
      },
      "source": [
        "### Q. Identify candidate questions for your machine learning project"
      ]
    },
    {
      "cell_type": "code",
      "metadata": {
        "id": "Te9wP3lgmUbI"
      },
      "source": [
        "# Register the dataset in Azure\n",
        "# GO to Consume tab in dataset \n",
        "# copy paste the PYTHON code to consume data\n",
        "\n",
        "# value_counts() -> discrete or continuous values"
      ],
      "execution_count": null,
      "outputs": []
    },
    {
      "cell_type": "markdown",
      "metadata": {
        "id": "4QyxtqnDmUbJ"
      },
      "source": [
        "### Q. Identify a suitable dataset for your canditate question(s)"
      ]
    },
    {
      "cell_type": "markdown",
      "metadata": {
        "id": "7dekV-uCmUbK"
      },
      "source": [
        "Go have a look at any of these websites:\n",
        "\n",
        "* https://www.kaggle.com/datasets \n",
        "* https://datasetsearch.research.google.com/\n",
        "* https://data.gov.uk/\n",
        "\n",
        "Find an interesting looking data set related to your problem domain and get a copy of it\n"
      ]
    },
    {
      "cell_type": "code",
      "metadata": {
        "id": "0_G4wwj2mUbL"
      },
      "source": [
        ""
      ],
      "execution_count": null,
      "outputs": []
    },
    {
      "cell_type": "markdown",
      "metadata": {
        "id": "-blA_nRrmUbM"
      },
      "source": [
        "### Q. Generate a descriptive statistics report for the columns in your dataset"
      ]
    },
    {
      "cell_type": "code",
      "metadata": {
        "id": "qJpAspkemUbM"
      },
      "source": [
        "# data.describe() \n",
        "# 2-3 sentences-> Quartile ranges, mean, median and mode\n",
        "# standard deviation \n",
        "\n",
        "# outliers \n",
        "# null values"
      ],
      "execution_count": null,
      "outputs": []
    },
    {
      "cell_type": "markdown",
      "metadata": {
        "id": "YIYvURUxmUbN"
      },
      "source": [
        "# Part 2: Data Preparation"
      ]
    },
    {
      "cell_type": "markdown",
      "metadata": {
        "id": "nuQhS9IbmUbO"
      },
      "source": [
        "### Q. Discuss the following types of missing data and how they would be handled in reference to your dataset where applicable.\n",
        "*\tMissing completely at random (MCAR)\n",
        "*\tMissing at random (MAR)\n",
        "*\tMissing Not at Random (MNAR)"
      ]
    },
    {
      "cell_type": "code",
      "metadata": {
        "id": "ECqqe_mJmUbQ"
      },
      "source": [
        "# missing values-> try to identify as one of the above type\n",
        "# how would you handle missing data\n",
        "# would you drop it? would you replace it? if replace, with what?"
      ],
      "execution_count": null,
      "outputs": []
    },
    {
      "cell_type": "markdown",
      "metadata": {
        "id": "DJbvBsismUbR"
      },
      "source": [
        "# Part 3: Model Selection"
      ]
    },
    {
      "cell_type": "markdown",
      "metadata": {
        "id": "u1N4nDOXmUbR"
      },
      "source": [
        "### Q. Use the cheat sheet below to choose the algorithm/estimator suitable for building a model to address your candidate question(s)\n",
        "\n",
        "* https://scikit-learn.org/stable/tutorial/machine_learning_map/"
      ]
    },
    {
      "cell_type": "markdown",
      "metadata": {
        "id": "5fIzi-oVmUbS"
      },
      "source": [
        "PLEASE USE ABOVE LINK if working in Python\n",
        "\n",
        "ELSE paste screenshots of AutoML and/or ML Pipelines here for problem statement "
      ]
    },
    {
      "cell_type": "markdown",
      "metadata": {
        "id": "rM78AFYUmUbT"
      },
      "source": [
        "# Part 4: Model Evaluation"
      ]
    },
    {
      "cell_type": "markdown",
      "metadata": {
        "id": "T-3PAX35t3eg"
      },
      "source": [
        "Upload the metrics screenshots/ or python code to evaluate models (metrics)- \n",
        "\n",
        "Classification- F1 Score, Precision, Recall, Accuracy, Confusion Matrix \n",
        "\n",
        "Regression - Mean Absolute Error, Mean Squared error, Normalized MSE, Coefficient of Deter. \n",
        "\n",
        "Experiments in Azure!"
      ]
    },
    {
      "cell_type": "markdown",
      "metadata": {
        "id": "hxuo0N89mUbU"
      },
      "source": [
        "### Q. Identify which of the statistical measures below are suitable for the evaluation of your model.\n",
        "\n",
        "Classification Metrics:\n",
        "* Accuracy\n",
        "* Precision\n",
        "* Recall\n",
        "* F1 Score\n",
        "\n",
        "Regression Metrics:\n",
        "    \n",
        "* Mean absolute error (MAE)\n",
        "* Root mean squared error (RMSE)\n",
        "* Relative absolute error (RAE)\n",
        "* Relative squared error (RSE)\n",
        "* Mean Zero One Error (MZOE)\n",
        "* Coefficient of determination\n",
        "\n",
        " "
      ]
    },
    {
      "cell_type": "code",
      "metadata": {
        "id": "Enbhi_VWmUbV"
      },
      "source": [
        ""
      ],
      "execution_count": null,
      "outputs": []
    },
    {
      "cell_type": "markdown",
      "metadata": {
        "id": "IkmLqzeHmUbV"
      },
      "source": [
        "# Part 5: Stretch - Model Deployment"
      ]
    },
    {
      "cell_type": "code",
      "metadata": {
        "id": "ZSTqF86RmUbV"
      },
      "source": [
        "# EIther in Azure Container Instance \n",
        "# in Azure Kubernetes Service "
      ],
      "execution_count": null,
      "outputs": []
    }
  ]
}