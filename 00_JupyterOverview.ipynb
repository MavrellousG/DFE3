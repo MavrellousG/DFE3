{
  "nbformat": 4,
  "nbformat_minor": 0,
  "metadata": {
    "celltoolbar": "Slideshow",
    "kernelspec": {
      "display_name": "Python 3",
      "language": "python",
      "name": "python3"
    },
    "language_info": {
      "codemirror_mode": {
        "name": "ipython",
        "version": 3
      },
      "file_extension": ".py",
      "mimetype": "text/x-python",
      "name": "python",
      "nbconvert_exporter": "python",
      "pygments_lexer": "ipython3",
      "version": "3.7.4"
    },
    "colab": {
      "name": "02 - JupyterOverview.ipynb",
      "provenance": [],
      "include_colab_link": true
    }
  },
  "cells": [
    {
      "cell_type": "markdown",
      "metadata": {
        "id": "view-in-github",
        "colab_type": "text"
      },
      "source": [
        "<a href=\"https://colab.research.google.com/github/a-forty-two/DFE3/blob/main/00_JupyterOverview.ipynb\" target=\"_parent\"><img src=\"https://colab.research.google.com/assets/colab-badge.svg\" alt=\"Open In Colab\"/></a>"
      ]
    },
    {
      "cell_type": "markdown",
      "metadata": {
        "id": "qZiBqUA4EmOM"
      },
      "source": [
        "# Python for Data Science & Analysis \n",
        "## Notes 1.0, Jupyter\n",
        "\n",
        "---\n",
        "### Objectives\n",
        "* Start jupyter notebook\n",
        "* Create a new notebook\n",
        "* Rename a notebook\n",
        "* Add a text cell\n",
        "* Add a code cell\n",
        "* Run cells\n",
        "---"
      ]
    },
    {
      "cell_type": "markdown",
      "metadata": {
        "id": "v4Vt5MO1EmOW"
      },
      "source": [
        "## What is Anaconda?"
      ]
    },
    {
      "cell_type": "markdown",
      "metadata": {
        "id": "HVWNTFZzEmOX"
      },
      "source": [
        "Anaconda is a collection of python packages, programms and other software for data analysis & data science."
      ]
    },
    {
      "cell_type": "markdown",
      "metadata": {
        "id": "gIiUYEyNEmOY"
      },
      "source": [
        "## What is jupyter notebook?"
      ]
    },
    {
      "cell_type": "markdown",
      "metadata": {
        "id": "8EaeLylXEmOY"
      },
      "source": [
        "A notebook is a documentation or commentary-first style of programming, where the key elements are explanations & comments. The code is less important, and often only small amounts. "
      ]
    },
    {
      "cell_type": "markdown",
      "metadata": {
        "id": "vSasNsHCEmOY"
      },
      "source": [
        "## How do I start Anaconda?"
      ]
    },
    {
      "cell_type": "markdown",
      "metadata": {
        "id": "iSCj9mDGEmOZ"
      },
      "source": [
        "Start Menu > Anaconda Navigator"
      ]
    },
    {
      "cell_type": "markdown",
      "metadata": {
        "id": "MH5qJg9GEmOa"
      },
      "source": [
        "## How do I start jupyter notebook?"
      ]
    },
    {
      "cell_type": "markdown",
      "metadata": {
        "id": "a6Y-jdufEmOa"
      },
      "source": [
        "In Anaconda Navigator, press `LAUNCH` underneath the jupyter notebook icon...\n",
        "\n",
        "<img src=images/jupyter/jupyter.png width=300px/>"
      ]
    },
    {
      "cell_type": "markdown",
      "metadata": {
        "id": "EL6eBiRNEmOb"
      },
      "source": [
        "## How do I use the file browser?"
      ]
    },
    {
      "cell_type": "markdown",
      "metadata": {
        "id": "6xvGkvr0EmOc"
      },
      "source": [
        "Jupyter notebook starts with a file browser that displays files on your system. \n",
        "\n",
        "eg., browse to your documents folder in jupyter."
      ]
    },
    {
      "cell_type": "markdown",
      "metadata": {
        "id": "0vpKnLr3EmOc"
      },
      "source": [
        "## How do I create notebooks?"
      ]
    },
    {
      "cell_type": "markdown",
      "metadata": {
        "id": "4ruhaNncEmOc"
      },
      "source": [
        "In your documents folder, go to the `NEW` button, and press `Python3`."
      ]
    },
    {
      "cell_type": "markdown",
      "metadata": {
        "id": "9DtrR_D0EmOd"
      },
      "source": [
        "<img src=images/jupyter/newnotebook.png width=700px/>"
      ]
    },
    {
      "cell_type": "markdown",
      "metadata": {
        "id": "q0z93EvdEmOd"
      },
      "source": [
        "Jupyter will create a new notebook called `Untitled`."
      ]
    },
    {
      "cell_type": "markdown",
      "metadata": {
        "id": "iEjH17P3EmOe"
      },
      "source": [
        "## How do I rename a notebook?"
      ]
    },
    {
      "cell_type": "markdown",
      "metadata": {
        "id": "UEifQiL6EmOe"
      },
      "source": [
        "Click on the title and a renaming box will appear, choose, eg., `MyNotes`. "
      ]
    },
    {
      "cell_type": "markdown",
      "metadata": {
        "id": "geLtJ1PFEmOe"
      },
      "source": [
        "<img src=images/jupyter/rename.png width=500px />"
      ]
    },
    {
      "cell_type": "markdown",
      "metadata": {
        "id": "vXrp7XypEmOf"
      },
      "source": [
        "## How do I add and modify cells?"
      ]
    },
    {
      "cell_type": "markdown",
      "metadata": {
        "id": "3NHSzyl6EmOf"
      },
      "source": [
        "### command mode: ESC (blue bar)\n",
        "- `arrows` move around notebook\n",
        "- `m` -- markdown / text cell\n",
        "- `y` -- code cell / python cell\n",
        "- `a` -- insert cell above\n",
        "- `b` -- insert cell below\n",
        "- `dd` -- delete cell\n",
        "- `z` -- undo delete\n",
        "- `CTRL+ENTER` to run\n",
        "- `SHITT+ENTER` to run & move one cell below\n",
        "    "
      ]
    },
    {
      "cell_type": "markdown",
      "metadata": {
        "id": "n4um9aZ7EmOf"
      },
      "source": [
        "## How do I edit the contents of cells?"
      ]
    },
    {
      "cell_type": "markdown",
      "metadata": {
        "id": "ZzgAuxIuEmOg"
      },
      "source": [
        "### edit mode:  ENTER (green bar)\n",
        "- type\n",
        "- `arrows` to move around text\n",
        "- `CTRL+ENTER` run cell\n",
        "- `SHIFT+ENTER` run cell & move one cell below"
      ]
    },
    {
      "cell_type": "markdown",
      "metadata": {
        "id": "AnDLUldoEmOg"
      },
      "source": [
        "## How do I add python code to a notebook?"
      ]
    },
    {
      "cell_type": "markdown",
      "metadata": {
        "id": "ehNObutOEmOg"
      },
      "source": [
        "Add a cell (eg., press `b`) and press `ENTER` to edit..."
      ]
    },
    {
      "cell_type": "code",
      "metadata": {
        "id": "R7uwAIHbEmOh",
        "outputId": "aebd9bb6-17ad-412c-8596-040ed5ca2f29"
      },
      "source": [
        "print(2 ** 2)\n"
      ],
      "execution_count": null,
      "outputs": [
        {
          "name": "stdout",
          "output_type": "stream",
          "text": [
            "4\n"
          ]
        }
      ]
    },
    {
      "cell_type": "markdown",
      "metadata": {
        "id": "5skbW8pKEmOk"
      },
      "source": [
        "## How do I run a python code cell?"
      ]
    },
    {
      "cell_type": "markdown",
      "metadata": {
        "id": "ugZpBFmtEmOk"
      },
      "source": [
        "Press `CTRL + ENTER` or the <i class=\"fa-step-forward fa\"></i> RUN button"
      ]
    },
    {
      "cell_type": "markdown",
      "metadata": {
        "id": "NLtjCmnIEmOl"
      },
      "source": [
        "## What happens when I run a code cell in jupyter?\n",
        "\n",
        "Jupyter always `print()`s the **last line...**"
      ]
    },
    {
      "cell_type": "code",
      "metadata": {
        "id": "6GFgZlpCEmOl",
        "outputId": "8a8effd8-6706-4380-f1c8-b881d1781e93"
      },
      "source": [
        "5"
      ],
      "execution_count": null,
      "outputs": [
        {
          "data": {
            "text/plain": [
              "5"
            ]
          },
          "execution_count": 2,
          "metadata": {},
          "output_type": "execute_result"
        }
      ]
    },
    {
      "cell_type": "markdown",
      "metadata": {
        "id": "GVf4Xr-mEmOl"
      },
      "source": [
        "In an ordinary python program, you have `print()` everything you wish to show on the screen. "
      ]
    },
    {
      "cell_type": "markdown",
      "metadata": {
        "id": "Mt35AWf5EmOl"
      },
      "source": [
        "## How do I add a text cell?"
      ]
    },
    {
      "cell_type": "markdown",
      "metadata": {
        "id": "7XwxxvqYEmOm"
      },
      "source": [
        "Add a cell, change type to markdown"
      ]
    },
    {
      "cell_type": "markdown",
      "metadata": {
        "id": "LA72XmAgEmOm"
      },
      "source": [
        "<img src=images/jupyter/textcell.png width=500px/>"
      ]
    },
    {
      "cell_type": "markdown",
      "metadata": {
        "id": "Jqo3B85kEmOm"
      },
      "source": [
        "or press `m` in COMMAND MODE."
      ]
    },
    {
      "cell_type": "markdown",
      "metadata": {
        "id": "WCQ2xjtqEmOm"
      },
      "source": [
        "## How do I get help?"
      ]
    },
    {
      "cell_type": "markdown",
      "metadata": {
        "id": "uyWRFVeQEmOm"
      },
      "source": [
        "* `command?`\n",
        "* `command??`\n",
        "* `help(command)`"
      ]
    },
    {
      "cell_type": "markdown",
      "metadata": {
        "id": "Yuq6em-PEmOn"
      },
      "source": [
        "## How do I find the arguments of a function?"
      ]
    },
    {
      "cell_type": "code",
      "metadata": {
        "id": "fS0N3YKaEmOn"
      },
      "source": [
        "import statistics\n",
        "statistics.mean?\n"
      ],
      "execution_count": null,
      "outputs": []
    },
    {
      "cell_type": "markdown",
      "metadata": {
        "id": "m_mFbP0eEmOn"
      },
      "source": [
        "## How do I stop jupyter from printing the last line of a cell?\n",
        "\n",
        "Use `;`"
      ]
    },
    {
      "cell_type": "code",
      "metadata": {
        "id": "hl8-Fy-cEmOo",
        "outputId": "9170a2dd-c1e0-4319-ba21-42a65a800313"
      },
      "source": [
        "5\n"
      ],
      "execution_count": null,
      "outputs": [
        {
          "data": {
            "text/plain": [
              "5"
            ]
          },
          "execution_count": 5,
          "metadata": {},
          "output_type": "execute_result"
        }
      ]
    },
    {
      "cell_type": "code",
      "metadata": {
        "id": "y4GJhqjaEmOo"
      },
      "source": [
        "5;\n"
      ],
      "execution_count": null,
      "outputs": []
    },
    {
      "cell_type": "markdown",
      "metadata": {
        "id": "G7w-QoYpEmOo"
      },
      "source": [
        "##   How do I run command line programs within jupyter?"
      ]
    },
    {
      "cell_type": "markdown",
      "metadata": {
        "id": "oYPJwzolEmOo"
      },
      "source": [
        "On windows, `dir`:"
      ]
    },
    {
      "cell_type": "code",
      "metadata": {
        "id": "NGxLRwxZEmOo",
        "outputId": "3c64310d-ae69-40a7-9063-26377eaaa8c9"
      },
      "source": [
        "!dir\n"
      ],
      "execution_count": null,
      "outputs": [
        {
          "name": "stdout",
          "output_type": "stream",
          "text": [
            " Volume in drive D is KUN-D\n",
            " Volume Serial Number is EA49-7B93\n",
            "\n",
            " Directory of D:\\DATA\\QA\\20201029 - znhspython\\20201116 - Data Analysis - KH\n",
            "\n",
            "16/11/2020  11:03    <DIR>          .\n",
            "16/11/2020  11:03    <DIR>          ..\n",
            "16/11/2020  11:02    <DIR>          .ipynb_checkpoints\n",
            "16/11/2020  10:53    <DIR>          datasets\n",
            "16/11/2020  10:53    <DIR>          images\n",
            "16/11/2020  11:03            13,318 LIVE_01_JupyterReview.ipynb\n",
            "12/11/2020  12:03             7,841 LIVE_312_SQL_CSV.ipynb\n",
            "12/11/2020  11:48            34,406 LIVE_31_SQL.ipynb\n",
            "16/11/2020  09:50            23,555 LIVE_32_Spark.ipynb\n",
            "13/11/2020  10:46            69,103 LIVE_331_Pandas.ipynb\n",
            "13/11/2020  11:18            50,595 LIVE_411_EDA_Pandas.ipynb\n",
            "13/11/2020  11:45           197,591 LIVE_412_EDA_Visuals.ipynb\n",
            "13/11/2020  14:34         5,021,192 LIVE_413_EDA_Plotly.ipynb\n",
            "13/11/2020  16:05            28,835 LIVE_42_Text.ipynb\n",
            "13/11/2020  16:05            52,313 NHS_Workbook.ipynb\n",
            "16/11/2020  10:53    <DIR>          notes\n",
            "16/11/2020  09:48             7,637 QAZNHS2_Overview.ipynb\n",
            "16/11/2020  10:53    <DIR>          reference\n",
            "12/11/2020  11:55            12,288 titanic.db\n",
            "16/11/2020  10:53    <DIR>          workbook\n",
            "              12 File(s)      5,518,674 bytes\n",
            "               8 Dir(s)  80,285,663,232 bytes free\n"
          ]
        }
      ]
    },
    {
      "cell_type": "markdown",
      "metadata": {
        "id": "R8wF8xVJEmOp"
      },
      "source": [
        "## How do I install python packages with jupyter?"
      ]
    },
    {
      "cell_type": "code",
      "metadata": {
        "id": "dFj8Qp3uEmOp",
        "outputId": "a2f02151-faf5-4179-8fab-f4a4c912b888"
      },
      "source": [
        "!pip install plotly pyspark\n"
      ],
      "execution_count": null,
      "outputs": [
        {
          "name": "stdout",
          "output_type": "stream",
          "text": [
            "Requirement already satisfied: plotly in c:\\users\\kunal\\anaconda3\\lib\\site-packages (4.10.0)\n",
            "Collecting pyspark\n",
            "  Downloading pyspark-3.0.1.tar.gz (204.2 MB)\n",
            "Requirement already satisfied: six in c:\\users\\kunal\\anaconda3\\lib\\site-packages (from plotly) (1.14.0)\n",
            "Requirement already satisfied: retrying>=1.3.3 in c:\\users\\kunal\\anaconda3\\lib\\site-packages (from plotly) (1.3.3)\n",
            "Collecting py4j==0.10.9\n",
            "  Downloading py4j-0.10.9-py2.py3-none-any.whl (198 kB)\n",
            "Building wheels for collected packages: pyspark\n",
            "  Building wheel for pyspark (setup.py): started\n",
            "  Building wheel for pyspark (setup.py): still running...\n",
            "  Building wheel for pyspark (setup.py): finished with status 'done'\n",
            "  Created wheel for pyspark: filename=pyspark-3.0.1-py2.py3-none-any.whl size=204612248 sha256=1b2290e8f6b057db0a550acca13fe3f96234f9ee0333cab325e9cf9ffca1a6b7\n",
            "  Stored in directory: c:\\users\\kunal\\appdata\\local\\pip\\cache\\wheels\\32\\d6\\81\\b226c0fb07391610277bc3e3fcc50b24bae5040b71d9dba360\n",
            "Successfully built pyspark\n",
            "Installing collected packages: py4j, pyspark\n",
            "Successfully installed py4j-0.10.9 pyspark-3.0.1\n"
          ]
        }
      ]
    }
  ]
}