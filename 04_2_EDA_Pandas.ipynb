{
  "nbformat": 4,
  "nbformat_minor": 0,
  "metadata": {
    "kernelspec": {
      "display_name": "Python 3",
      "language": "python",
      "name": "python3"
    },
    "language_info": {
      "codemirror_mode": {
        "name": "ipython",
        "version": 3
      },
      "file_extension": ".py",
      "mimetype": "text/x-python",
      "name": "python",
      "nbconvert_exporter": "python",
      "pygments_lexer": "ipython3",
      "version": "3.7.4"
    },
    "colab": {
      "name": "04_2 - EDA_Pandas.ipynb",
      "provenance": [],
      "include_colab_link": true
    }
  },
  "cells": [
    {
      "cell_type": "markdown",
      "metadata": {
        "id": "view-in-github",
        "colab_type": "text"
      },
      "source": [
        "<a href=\"https://colab.research.google.com/github/a-forty-two/DFE3/blob/main/04_2_EDA_Pandas.ipynb\" target=\"_parent\"><img src=\"https://colab.research.google.com/assets/colab-badge.svg\" alt=\"Open In Colab\"/></a>"
      ]
    },
    {
      "cell_type": "markdown",
      "metadata": {
        "id": "RsQPAUhUuHsB"
      },
      "source": [
        "# Python for Data Science & Analysis \n",
        "## Notes 4.2, Exploratory Data Analysis & Visualization"
      ]
    },
    {
      "cell_type": "markdown",
      "metadata": {
        "id": "3tLlww9euHsH"
      },
      "source": [
        "## Objectives\n",
        "* describe a standard EDA workflow\n",
        "* EXTRA: describe a standard communication & reporting process\n",
        "* write a program which uses pandas to:\n",
        "    * obtain a subset of columns using list indexes\n",
        "    * obtain a subset of rows using locator syntax  \n",
        "    * obtain descriptive statistics \n",
        "    * applies a test to a column to discretize it\n",
        "    * factor a continuous column with a discrete column\n",
        "* write a program which uses seaborn and matplotlib to:\n",
        "    * show univariate plots (eg., distplot)\n",
        "    * show multivariate plots (eg., scatterplot)\n",
        "    * EXTRA: customize plots"
      ]
    },
    {
      "cell_type": "markdown",
      "metadata": {
        "id": "TyibPc_SuHsJ"
      },
      "source": [
        "# Part 1: What is EDA?"
      ]
    },
    {
      "cell_type": "markdown",
      "metadata": {
        "id": "YEowh54tuHsK"
      },
      "source": [
        "## What is Exploratory Data Analysis?"
      ]
    },
    {
      "cell_type": "markdown",
      "metadata": {
        "id": "pGzwTmGMuHsK"
      },
      "source": [
        "* goal:\n",
        "    * investigate\n",
        "    * explain\n",
        "    * describe\n",
        "    * understand"
      ]
    },
    {
      "cell_type": "markdown",
      "metadata": {
        "id": "XTE_3N_ZuHsL"
      },
      "source": [
        "* questions?\n",
        "    * is there enough data?\n",
        "    * is the data correct?\n",
        "    * what is the distribution of each column?\n",
        "    * how do the columns correlate?"
      ]
    },
    {
      "cell_type": "markdown",
      "metadata": {
        "id": "TezX65pfuHsM"
      },
      "source": [
        "* method\n",
        "    * visual\n",
        "    * primarily descriptive"
      ]
    },
    {
      "cell_type": "markdown",
      "metadata": {
        "id": "6SNfpRl9uHsN"
      },
      "source": [
        "## What are the tools for EDA in Python?"
      ]
    },
    {
      "cell_type": "markdown",
      "metadata": {
        "id": "-vNwss0quHsO"
      },
      "source": [
        "Simple pair: Pandas for data exploration, seaborn for visualization.\n",
        "\n",
        "\n",
        "...but lots of options. "
      ]
    },
    {
      "cell_type": "markdown",
      "metadata": {
        "id": "dlS9QwAFuHsP"
      },
      "source": [
        "## What are the challenges around EDA?"
      ]
    },
    {
      "cell_type": "markdown",
      "metadata": {
        "id": "aIzkRvqnuHsP"
      },
      "source": [
        "### Challenges of EDA:\n",
        "\n",
        "* Strategic \n",
        "* Organizational\n",
        "* Technical "
      ]
    },
    {
      "cell_type": "markdown",
      "metadata": {
        "id": "XU2VfSmuuHsQ"
      },
      "source": [
        "# Part 2: EDA with Pandas"
      ]
    },
    {
      "cell_type": "code",
      "metadata": {
        "id": "PpPDRrYluHsQ"
      },
      "source": [
        "import pandas as pd\n",
        "\n",
        "df = pd.read_csv('datasets/titanic.csv')\n"
      ],
      "execution_count": null,
      "outputs": []
    },
    {
      "cell_type": "markdown",
      "metadata": {
        "id": "PSdcUYQwuHsR"
      },
      "source": [
        "## How do we EDA with Pandas?"
      ]
    },
    {
      "cell_type": "markdown",
      "metadata": {
        "id": "Y02621Z6uHsS"
      },
      "source": [
        "* data quality, structure, etc. metrics; $\\rightarrow$ `.info()`\n",
        "* descriptive stats for all single columns; $\\rightarrow$ `.describe()`, `.mean()`, `.value_counts()`\n",
        "* descriptive stats for all pairs of columns; $\\rightarrow$ `.corr()`\n",
        "* domain-specific row subsets; $\\rightarrow$ `df.loc`\n",
        "* introduce factoring columns; $\\rightarrow$ `.groupby`\n",
        "* introduce domain-specific novel columns; $\\rightarrow$ `df['bmi'] = df['w'] / df['h'] ** 2`\n",
        "\n",
        "    "
      ]
    },
    {
      "cell_type": "markdown",
      "metadata": {
        "id": "ju0Uwc8fuHsS"
      },
      "source": [
        "The purpose of computing a correlation score (default: pearson) is to determine *possible* relationships, rather than accurately measure correlation.\n",
        "\n",
        "Note the *sign* of the score, and it's rough magnitude. You should plot all columns and pairs *regardless*. "
      ]
    },
    {
      "cell_type": "markdown",
      "metadata": {
        "id": "N0noZV_MuHsT"
      },
      "source": [
        "## Exercise (20 min)"
      ]
    },
    {
      "cell_type": "markdown",
      "metadata": {
        "id": "0uU0zTm1uHsT"
      },
      "source": [
        "Perform an EDA of the titanic dataset with pandas, include:\n",
        "\n",
        "* data quality, structure, etc. metrics\n",
        "    * `.info()`, `.isna().sum()`, etc.\n",
        "* descriptive stats for all single columns\n",
        "    * `.describe()`, `.mean()`, `.median()`, `.std()`, `.value_counts()`\n",
        "* descriptive stats for all pairs of columns\n",
        "    * ie., `.corr()`"
      ]
    }
  ]
}